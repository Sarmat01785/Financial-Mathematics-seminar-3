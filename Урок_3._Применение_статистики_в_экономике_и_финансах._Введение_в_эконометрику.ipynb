{
 "cells": [
  {
   "cell_type": "markdown",
   "id": "53b139bd",
   "metadata": {},
   "source": [
    "### Задача 1\n",
    "\n",
    "Аналитик собрал статистику за 36 прошедших месяцев, согласно которой вложение в акцию компании АВС позволило за месяц заработать 15% в 1 случае из 36 проанализированных месяцев, 10% - в 2 случаях, 5% - в 3 случаях, 0% в 23 случаях, потерять 5% в 6 случаях, и потерять 10% в оставшихся случаях. Определить ожидаемое значение доходности инвестиции."
   ]
  },
  {
   "cell_type": "code",
   "execution_count": 4,
   "id": "56842ecb",
   "metadata": {
    "scrolled": true
   },
   "outputs": [
    {
     "name": "stdout",
     "output_type": "stream",
     "text": [
      "Ожидаемая доходность: 0.0028\n"
     ]
    }
   ],
   "source": [
    "# Вероятности и доходности\n",
    "probabilities = [1/36, 2/36, 3/36, 23/36, 6/36, 1/36]\n",
    "returns = [0.15, 0.10, 0.05, 0.00, -0.05, -0.10]\n",
    "\n",
    "# Расчет ожидаемой доходности\n",
    "expected_return = sum(p * r for p, r in zip(probabilities, returns))\n",
    "print(f\"Ожидаемая доходность: {expected_return:.4f}\")"
   ]
  },
  {
   "cell_type": "markdown",
   "id": "f5ad988e",
   "metadata": {},
   "source": [
    "### Задача 2\n",
    "\n",
    "Инвестиционный фонд за 7 предыдущих лет заработал следующие годовые доходности: +5%; -2%; +12%; +7%; -4%; +11%; +9%. Если предположить, что в среднем фонд будет зарабатывать такую же доходность, как и по итогам прошедших 7 лет (в смысле геометрической доходности), и вложить $100 тыс. в этот фонд, то какой ожидаемый результат будет через 5 лет?"
   ]
  },
  {
   "cell_type": "code",
   "execution_count": 10,
   "id": "76c2f506",
   "metadata": {},
   "outputs": [
    {
     "name": "stdout",
     "output_type": "stream",
     "text": [
      "Ожидаемый результат через 5 лет: $129,257.46\n"
     ]
    }
   ],
   "source": [
    "import numpy as np\n",
    "\n",
    "# Годовые доходности\n",
    "returns = [0.05, -0.02, 0.12, 0.07, -0.04, 0.11, 0.09]\n",
    "\n",
    "# Расчет геометрического среднего\n",
    "geom_mean = np.prod([(1 + r) for r in returns])**(1/len(returns)) - 1\n",
    "\n",
    "# Исходная сумма инвестиций\n",
    "initial_investment = 100000\n",
    "\n",
    "# Расчет ожидаемого результата через 5 лет\n",
    "expected_value = initial_investment * (1 + geom_mean)**5\n",
    "print(f\"Ожидаемый результат через 5 лет: ${expected_value:,.2f}\")"
   ]
  },
  {
   "cell_type": "markdown",
   "id": "1c16fdd3",
   "metadata": {},
   "source": [
    "### Задача 3\n",
    "\n",
    "В инвестиционном анализе есть т.н. показатель Шарпа, который характеризует эффективность инвестиции в фонд. Он рассчитывается как отношение средней доходности к риску (волатильности). Рассчитайте этот коэффициент для условий **задачи 2.**"
   ]
  },
  {
   "cell_type": "code",
   "execution_count": 11,
   "id": "055e0a64",
   "metadata": {},
   "outputs": [
    {
     "name": "stdout",
     "output_type": "stream",
     "text": [
      "Показатель Шарпа: 0.8698\n"
     ]
    }
   ],
   "source": [
    "# Средняя доходность\n",
    "mean_return = np.mean(returns)\n",
    "\n",
    "# Стандартное отклонение (риск, волатильность)\n",
    "std_dev = np.std(returns, ddof=1)\n",
    "\n",
    "# Показатель Шарпа (без учета безрисковой ставки, так как она не указана)\n",
    "sharpe_ratio = mean_return / std_dev\n",
    "print(f\"Показатель Шарпа: {sharpe_ratio:.4f}\")"
   ]
  },
  {
   "cell_type": "markdown",
   "id": "b40e6b2d",
   "metadata": {},
   "source": [
    "### Задача 4\n",
    "\n",
    "Компания по страхованию автомобилей разделяет водителей по трем категориям в зависимости от опыта: категория 1 (стаж вождения более 10 лет), категория 2 (стаж более 2 лет, но меньше 10), категория 3 (стаж менее 2 лет). Для данной компании среди 100% застрахованных 30% принадлежат категории 1, 50% – категории 2, 20% – категории 3. Вероятность того, что в течение года водитель категории 1 попадет хотя бы в одно ДТП равна 1%; для водителя категории 2 - 3%, а для водителя категории 3 – 10%. Клиент компании застраховал автомобиль и попал в ДТП. Какова вероятность того, что он относится к категории 1?"
   ]
  },
  {
   "cell_type": "code",
   "execution_count": 22,
   "id": "0f18df1f",
   "metadata": {},
   "outputs": [
    {
     "name": "stdout",
     "output_type": "stream",
     "text": [
      "Вероятность того, что водитель относится к категории 1 если он попал в ДТП: 0.0789\n"
     ]
    }
   ],
   "source": [
    "# Вероятности принадлежности к категориям\n",
    "prob_cat1 = 0.3\n",
    "prob_cat2 = 0.5\n",
    "prob_cat3 = 0.2\n",
    "\n",
    "# Вероятности попадания в ДТП\n",
    "prob_acc_cat1 = 0.01\n",
    "prob_acc_cat2 = 0.03\n",
    "prob_acc_cat3 = 0.10\n",
    "\n",
    "# Общая вероятность попадания в ДТП\n",
    "total_prob_acc = (prob_cat1 * prob_acc_cat1 +\n",
    "                  prob_cat2 * prob_acc_cat2 +\n",
    "                  prob_cat3 * prob_acc_cat3)\n",
    "\n",
    "# Вероятность, что водитель из категории 1, если попал в ДТП\n",
    "prob_cat1_given_acc = (prob_cat1 * prob_acc_cat1) / total_prob_acc\n",
    "print(f\"Вероятность того, что водитель относится к категории 1 если он попал в ДТП: {prob_cat1_given_acc:.4f}\")"
   ]
  },
  {
   "cell_type": "markdown",
   "id": "3bd91e66",
   "metadata": {},
   "source": [
    "### Задача 5\n",
    "\n",
    "Аналитик собрал статистические данные между ценой акции перерабатывающей компании и ценой ресурса, который эта компания перерабатывает:\n",
    "\n",
    "Месяц 1 2 3 4 5 6 7 8 9 10 11 12\n",
    "\n",
    "Цена акции, $ 12,1 15,2 15,3 15,7 15,2 16,1 16,5 17,1 17,2 17,0 16,8 16,9\n",
    "\n",
    "Цена ресурса, $ 115,0 119,0 121,0 130,0 131,0 150,0 155,0 172,0 174,0 168,0 161,0 159,0\n",
    "\n",
    "И предположил, что цена акции зависит от цены ресурса с задержкой на 1 месяц. Определить уравнение регрессии для этого предположения и сделать на его основе прогноз цены акции на 13 месяц."
   ]
  },
  {
   "cell_type": "code",
   "execution_count": 33,
   "id": "865006c2",
   "metadata": {},
   "outputs": [
    {
     "name": "stdout",
     "output_type": "stream",
     "text": [
      "                            OLS Regression Results                            \n",
      "==============================================================================\n",
      "Dep. Variable:                      y   R-squared:                       0.867\n",
      "Model:                            OLS   Adj. R-squared:                  0.852\n",
      "Method:                 Least Squares   F-statistic:                     58.46\n",
      "Date:                Wed, 29 May 2024   Prob (F-statistic):           3.17e-05\n",
      "Time:                        10:37:03   Log-Likelihood:                -1.5528\n",
      "No. Observations:                  11   AIC:                             7.106\n",
      "Df Residuals:                       9   BIC:                             7.901\n",
      "Df Model:                           1                                         \n",
      "Covariance Type:            nonrobust                                         \n",
      "==============================================================================\n",
      "                 coef    std err          t      P>|t|      [0.025      0.975]\n",
      "------------------------------------------------------------------------------\n",
      "const         11.4652      0.636     18.038      0.000      10.027      12.903\n",
      "x1             0.0331      0.004      7.646      0.000       0.023       0.043\n",
      "==============================================================================\n",
      "Omnibus:                        0.510   Durbin-Watson:                   2.503\n",
      "Prob(Omnibus):                  0.775   Jarque-Bera (JB):                0.105\n",
      "Skew:                          -0.218   Prob(JB):                        0.949\n",
      "Kurtosis:                       2.799   Cond. No.                     1.00e+03\n",
      "==============================================================================\n",
      "\n",
      "Notes:\n",
      "[1] Standard Errors assume that the covariance matrix of the errors is correctly specified.\n",
      "[2] The condition number is large,  1e+03. This might indicate that there are\n",
      "strong multicollinearity or other numerical problems.\n",
      "\n",
      "Прогноз цены акции на 13 месяц: $16.73\n"
     ]
    },
    {
     "name": "stderr",
     "output_type": "stream",
     "text": [
      "C:\\Users\\Sarmat\\anaconda3\\Lib\\site-packages\\scipy\\stats\\_stats_py.py:1806: UserWarning: kurtosistest only valid for n>=20 ... continuing anyway, n=11\n",
      "  warnings.warn(\"kurtosistest only valid for n>=20 ... continuing \"\n"
     ]
    }
   ],
   "source": [
    "import statsmodels.api as sm\n",
    "import numpy as np\n",
    "\n",
    "# Цены акций и ресурса\n",
    "stock_prices = [12.1, 15.2, 15.3, 15.7, 15.2, 16.1, 16.5, 17.1, 17.2, 17.0, 16.8, 16.9]\n",
    "resource_prices = [115.0, 119.0, 121.0, 130.0, 131.0, 150.0, 155.0, 172.0, 174.0, 168.0, 161.0, 159.0]\n",
    "\n",
    "# Подготавливаем данные для регрессии\n",
    "X = resource_prices[:-1]  # Исключаем последнюю цену, так как нет следующей цены акции для неё\n",
    "y = stock_prices[1:]      # Исключаем первую цену акции, так как она не имеет предшествующей цены ресурса\n",
    "\n",
    "# Добавляем константу для расчета интерсепта\n",
    "X = sm.add_constant(X)\n",
    "\n",
    "# Строим модель\n",
    "model = sm.OLS(y, X).fit()\n",
    "\n",
    "# Выводим результаты\n",
    "print(model.summary())\n",
    "\n",
    "# Делаем прогноз на следующий месяц\n",
    "# Убедимся, что X_new представляет собой двумерный массив\n",
    "X_new = np.array([1, resource_prices[-1]]).reshape(1, -1)  # Добавляем константу и преобразуем в 2D массив\n",
    "\n",
    "# Делаем прогноз\n",
    "forecast = model.predict(X_new)\n",
    "print(f\"\\nПрогноз цены акции на 13 месяц: ${forecast[0]:.2f}\")"
   ]
  }
 ],
 "metadata": {
  "kernelspec": {
   "display_name": "Python 3 (ipykernel)",
   "language": "python",
   "name": "python3"
  },
  "language_info": {
   "codemirror_mode": {
    "name": "ipython",
    "version": 3
   },
   "file_extension": ".py",
   "mimetype": "text/x-python",
   "name": "python",
   "nbconvert_exporter": "python",
   "pygments_lexer": "ipython3",
   "version": "3.11.5"
  }
 },
 "nbformat": 4,
 "nbformat_minor": 5
}
